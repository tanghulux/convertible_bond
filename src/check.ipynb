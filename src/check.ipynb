{
 "cells": [
  {
   "cell_type": "code",
   "execution_count": 1,
   "id": "75a9300a",
   "metadata": {},
   "outputs": [
    {
     "name": "stdout",
     "output_type": "stream",
     "text": [
      "可转债数量: 558\n"
     ]
    }
   ],
   "source": [
    "'''\n",
    "验证光大证券报告中的数据\n",
    "'''\n",
    "import pandas\n",
    "import os\n",
    "from datetime import datetime\n",
    "import numpy\n",
    "\n",
    "current_path = os.path.abspath('')\n",
    "df = pandas.read_excel(current_path + '/../data/data.xlsx')\n",
    "df['上市公告日期'] = pandas.to_datetime(df['上市公告日期'],format=\"%Y-%m-%d\")\n",
    "# 2019年至2022年11月18日 共558只可转债\n",
    "start = pandas.Timestamp(\"2019-01-01\")\n",
    "end = pandas.Timestamp(\"2022-11-18\")\n",
    "df = df[(df['上市公告日期']>=start) & (df['上市公告日期']<=end)]\n",
    "count = df['上市公告日期'].count()\n",
    "print(\"可转债数量: {}\".format(count))\n"
   ]
  },
  {
   "cell_type": "code",
   "execution_count": 2,
   "id": "c0e80ab9",
   "metadata": {},
   "outputs": [
    {
     "name": "stdout",
     "output_type": "stream",
     "text": [
      "整体\t 发行规模(亿元): 10048.21\t 发行只数: 558\t 涨跌幅平均数: 19.82%\t 涨跌幅中位数: 17.42%\n",
      "2019\t 发行规模(亿元): 2477.81\t 发行只数: 106\t 涨跌幅平均数: 9.44%\t 涨跌幅中位数: 8.77%\n",
      "2020\t 发行规模(亿元): 2466.81\t 发行只数: 204\t 涨跌幅平均数: 19.10%\t 涨跌幅中位数: 17.19%\n",
      "2021\t 发行规模(亿元): 2697.81\t 发行只数: 121\t 涨跌幅平均数: 19.27%\t 涨跌幅中位数: 18.48%\n",
      "2022\t 发行规模(亿元): 2405.78\t 发行只数: 127\t 涨跌幅平均数: 30.18%\t 涨跌幅中位数: 25.90%\n"
     ]
    }
   ],
   "source": [
    "# 转债发行及上市首日表现情况\n",
    "year = {\n",
    "    '整体' : [pandas.Timestamp(\"2019-01-01\"), pandas.Timestamp(\"2022-11-18\")],\n",
    "    '2019' : [pandas.Timestamp(\"2019-01-01\"), pandas.Timestamp(\"2019-12-31\")],\n",
    "    '2020' : [pandas.Timestamp(\"2020-01-01\"), pandas.Timestamp(\"2020-12-31\")],\n",
    "    '2021' : [pandas.Timestamp(\"2021-01-01\"), pandas.Timestamp(\"2021-12-31\")],\n",
    "    '2022' : [pandas.Timestamp(\"2022-01-01\"), pandas.Timestamp(\"2022-12-31\")]\n",
    "}\n",
    "for d, v in year.items():\n",
    "    count = df[(df['上市公告日期']>=v[0]) & (df['上市公告日期']<=v[1])]['上市公告日期'].count()\n",
    "    total = df[(df['上市公告日期']>=v[0]) & (df['上市公告日期']<=v[1])]['发行金额(万元)'].sum()\n",
    "    mean = df[(df['上市公告日期']>=v[0]) & (df['上市公告日期']<=v[1])]['上市首日收盘价'].apply(lambda x : (x-100)/100).mean()\n",
    "    median = df[(df['上市公告日期']>=v[0]) & (df['上市公告日期']<=v[1])]['上市首日收盘价'].apply(lambda x : (x-100)/100).median()\n",
    "    print(\"{}\\t 发行规模(亿元): {:.2f}\\t 发行只数: {}\\t 涨跌幅平均数: {:.2%}\\t 涨跌幅中位数: {:.2%}\".format(d, total/10000, count, mean, median))\n"
   ]
  },
  {
   "cell_type": "code",
   "execution_count": 3,
   "id": "2498328c",
   "metadata": {},
   "outputs": [
    {
     "name": "stdout",
     "output_type": "stream",
     "text": [
      "整体\t 股东平均配售比例: 60.27%\t 60.31%\n",
      "2019\t 股东平均配售比例: 43.68%\t 44.00%\n",
      "2020\t 股东平均配售比例: 64.17%\t 64.17%\n",
      "2021\t 股东平均配售比例: 59.58%\t 59.58%\n",
      "2022\t 股东平均配售比例: 68.52%\t 68.40%\n"
     ]
    }
   ],
   "source": [
    "# 股东配售比例\n",
    "df['股东配售比例'] = df.apply(lambda x : x['向原股东配售数量（张）']/(x['发行金额(万元)']*10000/100), axis=1)\n",
    "for d, v in year.items():\n",
    "    ratio = df[(df['上市公告日期']>=v[0]) & (df['上市公告日期']<=v[1])]['股东配售比例'].mean()\n",
    "    ratio2 = numpy.mean([ float(x.split('%')[0]) for x in df[(df['上市公告日期']>=v[0]) & (df['上市公告日期']<=v[1])]['股东配售率'] ])\n",
    "    print(\"{}\\t 股东平均配售比例: {:.2%}\\t {:.2f}%\".format(d, ratio, ratio2))"
   ]
  },
  {
   "cell_type": "code",
   "execution_count": 4,
   "id": "fca28d32",
   "metadata": {},
   "outputs": [
    {
     "name": "stdout",
     "output_type": "stream",
     "text": [
      "T-2\n",
      "整体\t 每手正股参与金额: 14898.16\t 每手可转债净收益: 93.64\t 转债收益: 201.15\t 股票收益: -107.52\n",
      "2019\t 每手正股参与金额: 12428.11\t 每手可转债净收益: 170.01\t 转债收益: 93.48\t 股票收益: 76.52\n",
      "2020\t 每手正股参与金额: 15345.84\t 每手可转债净收益: 96.93\t 转债收益: 200.31\t 股票收益: -103.38\n",
      "2021\t 每手正股参与金额: 16870.29\t 每手可转债净收益: 74.58\t 转债收益: 192.88\t 股票收益: -118.30\n",
      "2022\t 每手正股参与金额: 14361.73\t 每手可转债净收益: 42.76\t 转债收益: 300.26\t 股票收益: -257.50\n",
      "T-1\n",
      "整体\t 每手正股参与金额: 14943.98\t 每手可转债净收益: 47.82\t 转债收益: 201.15\t 股票收益: -153.33\n",
      "2019\t 每手正股参与金额: 12477.50\t 每手可转债净收益: 120.62\t 转债收益: 93.48\t 股票收益: 27.13\n",
      "2020\t 每手正股参与金额: 15410.01\t 每手可转债净收益: 32.76\t 转债收益: 200.31\t 股票收益: -167.55\n",
      "2021\t 每手正股参与金额: 16881.11\t 每手可转债净收益: 63.75\t 转债收益: 192.88\t 股票收益: -129.13\n",
      "2022\t 每手正股参与金额: 14408.42\t 每手可转债净收益: -3.94\t 转债收益: 300.26\t 股票收益: -304.20\n"
     ]
    }
   ],
   "source": [
    "t = {\n",
    "    'T-2' : 'T-2日',\n",
    "    'T-1' : 'T-1日', \n",
    "}\n",
    "# 从平均数看， 如在T-2日参与转债抢权，则一手转债成本1000元，平均可盈利93.6元，其中可转债收益201.2元，股票亏损107.5元\n",
    "df['可转债上市当天成交均价'] = df.apply(lambda x : x['上市首日成交金额(万)']/(x['发行金额(万元)']*10*x['上市首日换手率(%)']) * 100 * 1000, axis=1)\n",
    "for key, value in t.items():\n",
    "    print(key)\n",
    "    for d, v in year.items():\n",
    "        total = df[(df['上市公告日期']>=v[0]) & (df['上市公告日期']<=v[1])]['可转债上市当天成交均价'].apply(lambda x : x-100).sum()\n",
    "        count = df[(df['上市公告日期']>=v[0]) & (df['上市公告日期']<=v[1])]['可转债上市当天成交均价'].count()\n",
    "        profit_cb = total / count * 10 # 每手可转债10股，乘以10\n",
    "        total = df[(df['上市公告日期']>=v[0]) & (df['上市公告日期']<=v[1])].apply(lambda x : 1000 / x['每股配售（元）'] * (x['T日均价'] - x[value + '均价']), axis=1).sum()\n",
    "        profit_st = total / count\n",
    "        profit_avg = profit_cb + profit_st\n",
    "        money_st = df[(df['上市公告日期']>=v[0]) & (df['上市公告日期']<=v[1])].apply(lambda x : 1000 / x['每股配售（元）'] * x[value + '均价'], axis=1).sum() / count\n",
    "        print(\"{}\\t 每手正股参与金额: {:.2f}\\t 每手可转债净收益: {:.2f}\\t 转债收益: {:.2f}\\t 股票收益: {:.2f}\".format(d, money_st, profit_avg, profit_cb, profit_st))\n"
   ]
  },
  {
   "cell_type": "code",
   "execution_count": 5,
   "id": "bebb9ad3",
   "metadata": {
    "scrolled": true
   },
   "outputs": [
    {
     "name": "stdout",
     "output_type": "stream",
     "text": [
      "整体\t 可转债上市首日 平均价格: 119.82\t 平均转股价值: 100.36\t 平均转股溢价率: 21.19%\n",
      "2019\t 可转债上市首日 平均价格: 109.44\t 平均转股价值: 101.18\t 平均转股溢价率: 8.93%\n",
      "2020\t 可转债上市首日 平均价格: 119.10\t 平均转股价值: 103.37\t 平均转股溢价率: 16.56%\n",
      "2021\t 可转债上市首日 平均价格: 119.27\t 平均转股价值: 100.20\t 平均转股溢价率: 19.97%\n",
      "2022\t 可转债上市首日 平均价格: 130.18\t 平均转股价值: 95.01\t 平均转股溢价率: 40.04%\n"
     ]
    }
   ],
   "source": [
    "# 转换价值和转股溢价率\n",
    "df['转股价值'] = df.apply(lambda x : 100/x['初始转股价'] * x['可转债上市日正股收盘价'], axis=1)\n",
    "for d, v in year.items():\n",
    "    price_avg = df[(df['上市公告日期']>=v[0]) & (df['上市公告日期']<=v[1])]['上市首日收盘价'].mean()\n",
    "    count = df[(df['上市公告日期']>=v[0]) & (df['上市公告日期']<=v[1])]['上市首日收盘价'].count()\n",
    "    convertion_price = df[(df['上市公告日期']>=v[0]) & (df['上市公告日期']<=v[1])]['转股价值'].sum() / count\n",
    "    premium_ratio = df[(df['上市公告日期']>=v[0]) & (df['上市公告日期']<=v[1])].apply(lambda x : (x['上市首日收盘价']-x['转股价值'])/x['转股价值'], axis=1).mean() * 100\n",
    "    print(\"{}\\t 可转债上市首日 平均价格: {:.2f}\\t 平均转股价值: {:.2f}\\t 平均转股溢价率: {:.2f}%\".format(d, price_avg, convertion_price, premium_ratio))\n"
   ]
  },
  {
   "cell_type": "code",
   "execution_count": 6,
   "id": "4af53601",
   "metadata": {},
   "outputs": [
    {
     "name": "stdout",
     "output_type": "stream",
     "text": [
      "平均数\t T-3\t T-2\t T-1\t T\n",
      "整体\t 0.53% \t1.85% \t0.24% \t-1.60%\n",
      "2019\t 0.56% \t1.40% \t0.50% \t-0.23%\n",
      "2020\t 0.49% \t1.97% \t0.37% \t-1.72%\n",
      "2021\t 0.50% \t2.13% \t-0.14% \t-1.20%\n",
      "2022\t 0.58% \t1.78% \t0.19% \t-2.95%\n"
     ]
    }
   ],
   "source": [
    "# 股价波动\n",
    "t = {\n",
    "    'T-3' : 'T-3日',\n",
    "    'T-2' : 'T-2日',\n",
    "    'T-1' : 'T-1日', \n",
    "    'T' : 'T日'\n",
    "}\n",
    "print(\"平均数\\t T-3\\t T-2\\t T-1\\t T\")\n",
    "for d, v in year.items():\n",
    "    limit_avg = [ '{:.2f}%'.format(df[(df['上市公告日期']>=v[0]) & (df['上市公告日期']<=v[1])][value + '涨跌幅'].mean()) for key, value in t.items() ]\n",
    "    print(\"{}\\t {}\".format(d, ' \\t'.join(limit_avg)))"
   ]
  },
  {
   "cell_type": "code",
   "execution_count": null,
   "id": "8c40e361",
   "metadata": {},
   "outputs": [],
   "source": []
  }
 ],
 "metadata": {
  "kernelspec": {
   "display_name": "Python 3 (ipykernel)",
   "language": "python",
   "name": "python3"
  },
  "language_info": {
   "codemirror_mode": {
    "name": "ipython",
    "version": 3
   },
   "file_extension": ".py",
   "mimetype": "text/x-python",
   "name": "python",
   "nbconvert_exporter": "python",
   "pygments_lexer": "ipython3",
   "version": "3.9.16"
  }
 },
 "nbformat": 4,
 "nbformat_minor": 5
}
