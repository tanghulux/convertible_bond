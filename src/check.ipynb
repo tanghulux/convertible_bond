{
 "cells": [
  {
   "cell_type": "code",
   "execution_count": 98,
   "id": "75a9300a",
   "metadata": {},
   "outputs": [
    {
     "name": "stdout",
     "output_type": "stream",
     "text": [
      "可转债数量: 558\n"
     ]
    }
   ],
   "source": [
    "'''\n",
    "验证光大证券报告中的数据\n",
    "'''\n",
    "import pandas\n",
    "import os\n",
    "from datetime import datetime\n",
    "\n",
    "current_path = os.path.abspath('')\n",
    "df = pandas.read_excel(current_path + '/../data/data2.xlsx')\n",
    "df['上市公告日期'] = pandas.to_datetime(df['上市公告日期'],format=\"%Y-%m-%d\")\n",
    "# 2019年至2022年11月18日 共558只可转债\n",
    "start = pandas.Timestamp(\"2019-01-01\")\n",
    "end = pandas.Timestamp(\"2022-11-18\")\n",
    "df = df[(df['上市公告日期']>=start) & (df['上市公告日期']<=end)]\n",
    "count = df['上市公告日期'].count()\n",
    "print(\"可转债数量: {}\".format(count))\n"
   ]
  },
  {
   "cell_type": "code",
   "execution_count": 101,
   "id": "c7911d0e",
   "metadata": {},
   "outputs": [
    {
     "name": "stdout",
     "output_type": "stream",
     "text": [
      "每手可转债收益: 201.15\n"
     ]
    }
   ],
   "source": [
    "# 从平均数看， 如在T-2日参与转债抢权，则一手转债成本1000元，平均可盈利93.6元，其中可转债收益201.2元，股票亏损107.5元\n",
    "df['可转债上市当天成交均价'] = df.apply(lambda x : x['上市首日成交金额(万)']/(x['发行金额(万元)']*10*x['上市首日换手率(%)']) * 100 * 1000, axis=1)\n",
    "total = df['可转债上市当天成交均价'].apply(lambda x : x-100).sum()\n",
    "profit_avg = total / count\n",
    "# 每手可转债10股，乘以10\n",
    "print(\"每手可转债收益: {:.2f}\".format(profit_avg * 10))"
   ]
  },
  {
   "cell_type": "code",
   "execution_count": 102,
   "id": "96ab861b",
   "metadata": {},
   "outputs": [
    {
     "name": "stdout",
     "output_type": "stream",
     "text": [
      "每手可转债股票亏损: -107.52\n"
     ]
    }
   ],
   "source": [
    "total = df.apply(lambda x : 1000 / x['每股配售（元）'] * (x['T日均价'] - x['T-2日均价']), axis=1).sum()\n",
    "profit_avg = total / count\n",
    "print(\"每手可转债股票亏损: {:.2f}\".format(profit_avg))"
   ]
  },
  {
   "cell_type": "code",
   "execution_count": 111,
   "id": "c0e80ab9",
   "metadata": {},
   "outputs": [
    {
     "name": "stdout",
     "output_type": "stream",
     "text": [
      "整体\t 发行规模(亿元): 10048.21\t 发行只数: 558\t 涨跌幅平均数: 19.82%\t 涨跌幅中位数: 17.42%\n",
      "2019\t 发行规模(亿元): 2477.81\t 发行只数: 106\t 涨跌幅平均数: 9.44%\t 涨跌幅中位数: 8.77%\n",
      "2020\t 发行规模(亿元): 2466.81\t 发行只数: 204\t 涨跌幅平均数: 19.10%\t 涨跌幅中位数: 17.19%\n",
      "2021\t 发行规模(亿元): 2697.81\t 发行只数: 121\t 涨跌幅平均数: 19.27%\t 涨跌幅中位数: 18.48%\n",
      "2022\t 发行规模(亿元): 2405.78\t 发行只数: 127\t 涨跌幅平均数: 30.18%\t 涨跌幅中位数: 25.90%\n"
     ]
    }
   ],
   "source": [
    "# 转债发行及上市首日表现情况\n",
    "mean = df['上市首日收盘价'].apply(lambda x : (x-100)/100).mean()\n",
    "median = df['上市首日收盘价'].apply(lambda x : (x-100)/100).median()\n",
    "total = df['发行金额(万元)'].sum()\n",
    "count = df['上市公告日期'].count()\n",
    "print(\"整体\\t 发行规模(亿元): {:.2f}\\t 发行只数: {}\\t 涨跌幅平均数: {:.2%}\\t 涨跌幅中位数: {:.2%}\".format(total/10000, count, mean, median))\n",
    "year = {\n",
    "    '2019' : [pandas.Timestamp(\"2019-01-01\"), pandas.Timestamp(\"2019-12-31\")],\n",
    "    '2020' : [pandas.Timestamp(\"2020-01-01\"), pandas.Timestamp(\"2020-12-31\")],\n",
    "    '2021' : [pandas.Timestamp(\"2021-01-01\"), pandas.Timestamp(\"2021-12-31\")],\n",
    "    '2022' : [pandas.Timestamp(\"2022-01-01\"), pandas.Timestamp(\"2022-12-31\")]\n",
    "}\n",
    "for d, v in year.items():\n",
    "    count = df[(df['上市公告日期']>=v[0]) & (df['上市公告日期']<=v[1])]['上市公告日期'].count()\n",
    "    total = df[(df['上市公告日期']>=v[0]) & (df['上市公告日期']<=v[1])]['发行金额(万元)'].sum()\n",
    "    mean = df[(df['上市公告日期']>=v[0]) & (df['上市公告日期']<=v[1])]['上市首日收盘价'].apply(lambda x : (x-100)/100).mean()\n",
    "    median = df[(df['上市公告日期']>=v[0]) & (df['上市公告日期']<=v[1])]['上市首日收盘价'].apply(lambda x : (x-100)/100).median()\n",
    "    print(\"{}\\t 发行规模(亿元): {:.2f}\\t 发行只数: {}\\t 涨跌幅平均数: {:.2%}\\t 涨跌幅中位数: {:.2%}\".format(d, total/10000, count, mean, median))\n"
   ]
  },
  {
   "cell_type": "code",
   "execution_count": null,
   "id": "800d84f4",
   "metadata": {},
   "outputs": [],
   "source": []
  }
 ],
 "metadata": {
  "kernelspec": {
   "display_name": "Python 3 (ipykernel)",
   "language": "python",
   "name": "python3"
  },
  "language_info": {
   "codemirror_mode": {
    "name": "ipython",
    "version": 3
   },
   "file_extension": ".py",
   "mimetype": "text/x-python",
   "name": "python",
   "nbconvert_exporter": "python",
   "pygments_lexer": "ipython3",
   "version": "3.9.16"
  }
 },
 "nbformat": 4,
 "nbformat_minor": 5
}
