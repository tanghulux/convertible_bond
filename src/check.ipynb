{
 "cells": [
  {
   "cell_type": "code",
   "execution_count": 1,
   "id": "75a9300a",
   "metadata": {},
   "outputs": [
    {
     "name": "stdout",
     "output_type": "stream",
     "text": [
      "可转债数量: 558\n"
     ]
    }
   ],
   "source": [
    "'''\n",
    "验证光大证券报告中的数据\n",
    "'''\n",
    "import pandas\n",
    "import os\n",
    "from datetime import datetime\n",
    "import numpy\n",
    "\n",
    "current_path = os.path.abspath('')\n",
    "df = pandas.read_excel(current_path + '/../data/data.xlsx')\n",
    "df['上市公告日期'] = pandas.to_datetime(df['上市公告日期'],format=\"%Y-%m-%d\")\n",
    "# 2019年至2022年11月18日 共558只可转债\n",
    "start = pandas.Timestamp(\"2019-01-01\")\n",
    "end = pandas.Timestamp(\"2022-11-18\")\n",
    "df = df[(df['上市公告日期']>=start) & (df['上市公告日期']<=end)]\n",
    "count = df['上市公告日期'].count()\n",
    "print(\"可转债数量: {}\".format(count))\n"
   ]
  },
  {
   "cell_type": "code",
   "execution_count": 2,
   "id": "c0e80ab9",
   "metadata": {},
   "outputs": [
    {
     "name": "stdout",
     "output_type": "stream",
     "text": [
      "整体\t 发行规模(亿元): 10048.21\t 发行只数: 558\t 涨跌幅平均数: 19.82%\t 涨跌幅中位数: 17.42%\n",
      "2019\t 发行规模(亿元): 2477.81\t 发行只数: 106\t 涨跌幅平均数: 9.44%\t 涨跌幅中位数: 8.77%\n",
      "2020\t 发行规模(亿元): 2466.81\t 发行只数: 204\t 涨跌幅平均数: 19.10%\t 涨跌幅中位数: 17.19%\n",
      "2021\t 发行规模(亿元): 2697.81\t 发行只数: 121\t 涨跌幅平均数: 19.27%\t 涨跌幅中位数: 18.48%\n",
      "2022\t 发行规模(亿元): 2405.78\t 发行只数: 127\t 涨跌幅平均数: 30.18%\t 涨跌幅中位数: 25.90%\n"
     ]
    }
   ],
   "source": [
    "# 转债发行及上市首日表现情况\n",
    "year = {\n",
    "    '整体' : [pandas.Timestamp(\"2019-01-01\"), pandas.Timestamp(\"2022-11-18\")],\n",
    "    '2019' : [pandas.Timestamp(\"2019-01-01\"), pandas.Timestamp(\"2019-12-31\")],\n",
    "    '2020' : [pandas.Timestamp(\"2020-01-01\"), pandas.Timestamp(\"2020-12-31\")],\n",
    "    '2021' : [pandas.Timestamp(\"2021-01-01\"), pandas.Timestamp(\"2021-12-31\")],\n",
    "    '2022' : [pandas.Timestamp(\"2022-01-01\"), pandas.Timestamp(\"2022-12-31\")]\n",
    "}\n",
    "for d, v in year.items():\n",
    "    tf = df[(df['上市公告日期']>=v[0]) & (df['上市公告日期']<=v[1])]\n",
    "    count = tf['上市公告日期'].count()\n",
    "    total = tf['发行金额(万元)'].sum()\n",
    "    mean = tf['上市首日收盘价'].apply(lambda x : (x-100)/100).mean()\n",
    "    median = tf['上市首日收盘价'].apply(lambda x : (x-100)/100).median()\n",
    "    print(\"{}\\t 发行规模(亿元): {:.2f}\\t 发行只数: {}\\t 涨跌幅平均数: {:.2%}\\t 涨跌幅中位数: {:.2%}\".format(d, total/10000, count, mean, median))\n"
   ]
  },
  {
   "cell_type": "code",
   "execution_count": 3,
   "id": "2498328c",
   "metadata": {},
   "outputs": [
    {
     "name": "stdout",
     "output_type": "stream",
     "text": [
      "整体\t 股东平均配售比例: 60.27%\n",
      "2019\t 股东平均配售比例: 43.68%\n",
      "2020\t 股东平均配售比例: 64.17%\n",
      "2021\t 股东平均配售比例: 59.58%\n",
      "2022\t 股东平均配售比例: 68.52%\n"
     ]
    }
   ],
   "source": [
    "# 股东配售比例\n",
    "df['股东配售比例'] = df.apply(lambda x : x['向原股东配售数量（张）']/(x['发行金额(万元)']*10000/100), axis=1)\n",
    "for d, v in year.items():\n",
    "    tf = df[(df['上市公告日期']>=v[0]) & (df['上市公告日期']<=v[1])]\n",
    "    ratio = tf['股东配售比例'].mean()\n",
    "    ratio2 = numpy.mean([ float(x.split('%')[0]) for x in tf['股东配售率'] ])\n",
    "    #print(\"{}\\t 股东平均配售比例: {:.2%}\\t {:.2f}%\".format(d, ratio, ratio2))\n",
    "    print(\"{}\\t 股东平均配售比例: {:.2%}\".format(d, ratio))"
   ]
  },
  {
   "cell_type": "code",
   "execution_count": 4,
   "id": "fca28d32",
   "metadata": {},
   "outputs": [
    {
     "name": "stdout",
     "output_type": "stream",
     "text": [
      "T-2日\n",
      "整体\t 每手正股参与金额: 14898.16\t 每手可转债净收益: 93.64\t 转债收益: 201.15    \t 股票收益: -107.52\n",
      "2019\t 每手正股参与金额: 12428.11\t 每手可转债净收益: 170.01\t 转债收益: 93.48    \t 股票收益: 76.52\n",
      "2020\t 每手正股参与金额: 15345.84\t 每手可转债净收益: 96.93\t 转债收益: 200.31    \t 股票收益: -103.38\n",
      "2021\t 每手正股参与金额: 16870.29\t 每手可转债净收益: 74.58\t 转债收益: 192.88    \t 股票收益: -118.30\n",
      "2022\t 每手正股参与金额: 14361.73\t 每手可转债净收益: 42.76\t 转债收益: 300.26    \t 股票收益: -257.50\n",
      "T-1日\n",
      "整体\t 每手正股参与金额: 14943.98\t 每手可转债净收益: 47.82\t 转债收益: 201.15    \t 股票收益: -153.33\n",
      "2019\t 每手正股参与金额: 12477.50\t 每手可转债净收益: 120.62\t 转债收益: 93.48    \t 股票收益: 27.13\n",
      "2020\t 每手正股参与金额: 15410.01\t 每手可转债净收益: 32.76\t 转债收益: 200.31    \t 股票收益: -167.55\n",
      "2021\t 每手正股参与金额: 16881.11\t 每手可转债净收益: 63.75\t 转债收益: 192.88    \t 股票收益: -129.13\n",
      "2022\t 每手正股参与金额: 14408.42\t 每手可转债净收益: -3.94\t 转债收益: 300.26    \t 股票收益: -304.20\n"
     ]
    }
   ],
   "source": [
    "t = {\n",
    "    'T-2' : 'T-2日',\n",
    "    'T-1' : 'T-1日', \n",
    "}\n",
    "# 从平均数看， 如在T-2日参与转债抢权，则一手转债成本1000元，平均可盈利93.6元，其中可转债收益201.2元，股票亏损107.5元\n",
    "df['可转债上市当天成交均价'] = df.apply(lambda x : x['上市首日成交金额(万)']/(x['发行金额(万元)']*10*x['上市首日换手率(%)']) * 100 * 1000, axis=1)\n",
    "for key, value in t.items():\n",
    "    print(value)\n",
    "    for d, v in year.items():\n",
    "        tf = df[(df['上市公告日期']>=v[0]) & (df['上市公告日期']<=v[1])]\n",
    "        money_st = tf.apply(lambda x : 1000 / x['每股配售（元）'] * x[value + '均价'], axis=1).mean()\n",
    "        profit_cb = tf['可转债上市当天成交均价'].apply(lambda x : x-100).mean() * 10\n",
    "        profit_st = tf.apply(lambda x : 1000 / x['每股配售（元）'] * (x['T日均价'] - x[value + '均价']), axis=1).mean()\n",
    "        profit_avg = profit_cb + profit_st\n",
    "        print(\"{}\\t 每手正股参与金额: {:.2f}\\t 每手可转债净收益: {:.2f}\\t 转债收益: {:.2f}    \\t 股票收益: {:.2f}\".format(d, money_st, profit_avg, profit_cb, profit_st))\n"
   ]
  },
  {
   "cell_type": "code",
   "execution_count": 13,
   "id": "b0846a3e",
   "metadata": {},
   "outputs": [
    {
     "name": "stdout",
     "output_type": "stream",
     "text": [
      "股东配售比例    \t T-2日至T日   \t         T日\t 转债盈亏      \t 正股盈亏      \t 总收益       \t 数量        \n",
      "小于40%     \t -0.84%    \t      -1.06%\t 120.00    \t -126.33   \t -6.33     \t 118\n",
      "40%-50%   \t -0.67%    \t      -0.87%\t 151.20    \t -7.11     \t 144.09    \t 44\n",
      "50%-60%   \t -1.52%    \t      -1.86%\t 173.90    \t -102.63   \t 71.27     \t 63\n",
      "60%-70%   \t -1.87%    \t      -2.13%\t 246.16    \t -237.10   \t 9.05      \t 105\n",
      "70%-80%   \t -0.99%    \t      -1.65%\t 233.63    \t -78.71    \t 154.92    \t 119\n",
      "80%-90%   \t -1.18%    \t      -1.80%\t 240.54    \t -35.43    \t 205.12    \t 92\n",
      "90%以上     \t -1.52%    \t      -1.61%\t 276.27    \t -46.33    \t 229.95    \t 17\n"
     ]
    }
   ],
   "source": [
    "# 股东配售比例对抢权配售影响\n",
    "old_value = {\n",
    "    '小于40%' : [0,0.4],\n",
    "    '40%-50%' : [0.4, 0.5],\n",
    "    '50%-60%' : [0.5, 0.6],\n",
    "    '60%-70%' : [0.6, 0.7],\n",
    "    '70%-80%' : [0.7, 0.8],\n",
    "    '80%-90%' : [0.8, 0.9],\n",
    "    '90%以上' : [0.9, 1],\n",
    "}\n",
    "\n",
    "print(\"{:10s}\\t {:<10s}\\t {:>10s}\\t {:10s}\\t {:10s}\\t {:10s}\\t {:10s}\".format(\"股东配售比例\",\"T-2日至T日\", \"T日\",\"转债盈亏\",\"正股盈亏\",\"总收益\", \"数量\"))\n",
    "for d, v in old_value.items():\n",
    "    tf = df[(df['股东配售比例'] < v[1]) & (df['股东配售比例'] >= v[0])]\n",
    "    limit_avg_1 = tf.apply(lambda x : (x['T日均价']-x['T-2日均价'])/x['T-2日均价'], axis=1).mean()\n",
    "    limit_avg_2 = tf['T日涨跌幅'].mean()\n",
    "    count = tf['T日涨跌幅'].count()\n",
    "    profit_cb = tf['可转债上市当天成交均价'].apply(lambda x : x-100).mean() * 10\n",
    "    profit_st = tf.apply(lambda x : 1000 / x['每股配售（元）'] * (x['T日均价'] - x['T-2日均价']), axis=1).mean()\n",
    "    profit_avg = profit_cb + profit_st\n",
    "    print(\"{:10s}\\t {:<10.2%}\\t {:>10.2f}%\\t {:<10.2f}\\t {:<10.2f}\\t {:<10.2f}\\t {}\".format(d, limit_avg_1, limit_avg_2, profit_cb, profit_st, profit_avg, count))"
   ]
  },
  {
   "cell_type": "code",
   "execution_count": 6,
   "id": "e27fc3aa",
   "metadata": {},
   "outputs": [
    {
     "name": "stdout",
     "output_type": "stream",
     "text": [
      "整体\t 正股T-2日至T日涨跌幅: -1.21% \t 正股盈利: -107.52\n",
      "2019\t 正股T-2日至T日涨跌幅: 0.37% \t 正股盈利: 76.52\n",
      "2020\t 正股T-2日至T日涨跌幅: -1.25% \t 正股盈利: -103.38\n",
      "2021\t 正股T-2日至T日涨跌幅: -1.42% \t 正股盈利: -118.30\n",
      "2022\t 正股T-2日至T日涨跌幅: -2.26% \t 正股盈利: -257.50\n"
     ]
    }
   ],
   "source": [
    "# T-2日至T日股价涨跌幅，股票收益\n",
    "df['正股T-2日至T日涨跌幅'] = df.apply(lambda x : (x['T日均价'] - x['T-2日均价'])/x['T-2日均价'], axis=1)\n",
    "for d, v in year.items():\n",
    "    tf = df[(df['上市公告日期']>=v[0]) & (df['上市公告日期']<=v[1])]\n",
    "    profit_rt = tf.apply(lambda x : (x['T日均价'] - x['T-2日均价'])/x['T-2日均价'], axis=1).mean()\n",
    "    profit_st = tf.apply(lambda x : 1000 / x['每股配售（元）'] * (x['T日均价'] - x['T-2日均价']), axis=1).mean()\n",
    "    print(\"{}\\t 正股T-2日至T日涨跌幅: {:.2f}% \\t 正股盈利: {:.2f}\".format(d, profit_rt*100, profit_st))\n"
   ]
  },
  {
   "cell_type": "code",
   "execution_count": 7,
   "id": "bebb9ad3",
   "metadata": {
    "scrolled": true
   },
   "outputs": [
    {
     "name": "stdout",
     "output_type": "stream",
     "text": [
      "整体\t 可转债上市首日 平均价格: 119.82\t 平均转股价值: 100.36\t 平均转股溢价率: 21.19%\n",
      "2019\t 可转债上市首日 平均价格: 109.44\t 平均转股价值: 101.18\t 平均转股溢价率: 8.93%\n",
      "2020\t 可转债上市首日 平均价格: 119.10\t 平均转股价值: 103.37\t 平均转股溢价率: 16.56%\n",
      "2021\t 可转债上市首日 平均价格: 119.27\t 平均转股价值: 100.20\t 平均转股溢价率: 19.97%\n",
      "2022\t 可转债上市首日 平均价格: 130.18\t 平均转股价值: 95.01\t 平均转股溢价率: 40.04%\n"
     ]
    }
   ],
   "source": [
    "# 转换价值和转股溢价率\n",
    "df['转股价值'] = df.apply(lambda x : 100/x['初始转股价'] * x['可转债上市日正股收盘价'], axis=1)\n",
    "for d, v in year.items():\n",
    "    tf = df[(df['上市公告日期']>=v[0]) & (df['上市公告日期']<=v[1])]\n",
    "    price_avg = tf['上市首日收盘价'].mean()\n",
    "    convertion_price = tf['转股价值'].mean()\n",
    "    premium_ratio = tf.apply(lambda x : (x['上市首日收盘价']-x['转股价值'])/x['转股价值'], axis=1).mean() * 100\n",
    "    print(\"{}\\t 可转债上市首日 平均价格: {:.2f}\\t 平均转股价值: {:.2f}\\t 平均转股溢价率: {:.2f}%\".format(d, price_avg, convertion_price, premium_ratio))\n"
   ]
  },
  {
   "cell_type": "code",
   "execution_count": 8,
   "id": "4af53601",
   "metadata": {},
   "outputs": [
    {
     "name": "stdout",
     "output_type": "stream",
     "text": [
      "涨跌幅\t T-3日\t T-2日\t T-1日\t T日\n",
      "整体\t 0.53% \t1.85% \t0.24% \t-1.60%\n",
      "2019\t 0.56% \t1.40% \t0.50% \t-0.23%\n",
      "2020\t 0.49% \t1.97% \t0.37% \t-1.72%\n",
      "2021\t 0.50% \t2.13% \t-0.14% \t-1.20%\n",
      "2022\t 0.58% \t1.78% \t0.19% \t-2.95%\n"
     ]
    }
   ],
   "source": [
    "# 股价波动\n",
    "t = {\n",
    "    'T-3' : 'T-3日',\n",
    "    'T-2' : 'T-2日',\n",
    "    'T-1' : 'T-1日', \n",
    "    'T' : 'T日'\n",
    "}\n",
    "print(\"涨跌幅\\t T-3日\\t T-2日\\t T-1日\\t T日\")\n",
    "for d, v in year.items():\n",
    "    tf = df[(df['上市公告日期']>=v[0]) & (df['上市公告日期']<=v[1])]\n",
    "    limit_avg = [ '{:.2f}%'.format(tf[value + '涨跌幅'].mean()) for key, value in t.items() ]\n",
    "    print(\"{}\\t {}\".format(d, ' \\t'.join(limit_avg)))"
   ]
  },
  {
   "cell_type": "code",
   "execution_count": 9,
   "id": "8c40e361",
   "metadata": {},
   "outputs": [
    {
     "name": "stdout",
     "output_type": "stream",
     "text": [
      "正股市值      \t T-2日至T日   \t         T日\t 转债盈亏      \t 正股盈亏      \t 总收益       \n",
      "小于50亿     \t -1.45%    \t      -2.14%\t 186.59    \t -115.93   \t 70.66     \n",
      "50-100亿   \t -1.30%    \t      -1.55%\t 181.37    \t -81.67    \t 99.70     \n",
      "100-500亿  \t -1.02%    \t      -1.29%\t 217.11    \t -114.84   \t 102.27    \n",
      "500亿以上    \t -0.81%    \t      -1.09%\t 245.51    \t -124.19   \t 121.32    \n"
     ]
    }
   ],
   "source": [
    "# 正股不同市值对抢权策略的影响\n",
    "market_value = {\n",
    "    '小于50亿' : [0,50],\n",
    "    '50-100亿' : [50, 100],\n",
    "    '100-500亿' : [100, 500],\n",
    "    '500亿以上' : [500, 100000]\n",
    "}\n",
    "df['正股市值'] = df.apply(lambda x : x['正股总股本（万)'] * x['T-3日收盘'] / 10000, axis=1)\n",
    "\n",
    "print(\"{:10s}\\t {:<10s}\\t {:>10s}\\t {:10s}\\t {:10s}\\t {:10s}\".format(\"正股市值\",\"T-2日至T日\", \"T日\",\"转债盈亏\",\"正股盈亏\",\"总收益\"))\n",
    "for d, v in market_value.items():\n",
    "    tf = df[(df['正股市值'] < v[1]) & (df['正股市值'] >= v[0])]\n",
    "    #for idx, row in tf.iterrows():\n",
    "        #print(row['证券名称'], row['正股总股本（万)'], row['T-3日收盘'], row['正股总股本（万)'] * row['T-3日收盘'] / 10000)\n",
    "    limit_avg_1 = tf.apply(lambda x : (x['T日均价']-x['T-2日均价'])/x['T-2日均价'], axis=1).mean()\n",
    "    limit_avg_2 = tf['T日涨跌幅'].mean()\n",
    "    profit_cb = tf['可转债上市当天成交均价'].apply(lambda x : x-100).mean() * 10\n",
    "    profit_st = tf.apply(lambda x : 1000 / x['每股配售（元）'] * (x['T日均价'] - x['T-2日均价']), axis=1).mean()\n",
    "    profit_avg = profit_cb + profit_st\n",
    "    print(\"{:10s}\\t {:<10.2%}\\t {:>10.2f}%\\t {:<10.2f}\\t {:<10.2f}\\t {:<10.2f}\".format(d, limit_avg_1, limit_avg_2, profit_cb, profit_st, profit_avg))"
   ]
  },
  {
   "cell_type": "code",
   "execution_count": 10,
   "id": "294eaa01",
   "metadata": {},
   "outputs": [
    {
     "name": "stdout",
     "output_type": "stream",
     "text": [
      "T-3至T-5日  \t T-2至T日    \t         T日\t 转债盈亏      \t 正股盈亏      \t 总盈亏       \t 数量\n",
      "大于10%     \t -1.62%    \t      -0.75%\t 117.41    \t -127.06   \t -9.65     \t 12\n",
      "5%至10%    \t -1.19%    \t      -1.09%\t 198.78    \t -174.58   \t 24.20     \t 46\n",
      "0%至5%     \t -1.65%    \t      -2.01%\t 208.03    \t -164.06   \t 43.97     \t 245\n",
      "-5%至0%    \t -1.13%    \t      -1.33%\t 186.19    \t -88.24    \t 97.95     \t 216\n",
      "-10%至-5%  \t 1.49%     \t      -1.19%\t 296.22    \t 277.10    \t 573.32    \t 31\n",
      "小于-10%    \t 0.31%     \t      -2.30%\t 165.60    \t 28.06     \t 193.66    \t 8\n"
     ]
    }
   ],
   "source": [
    "# T-3日至T-5日股价涨跌幅对抢权策略的影响\n",
    "limit_value = {\n",
    "    '大于10%' : [0.1, 10],\n",
    "    '5%至10%' : [0.05, 0.1],\n",
    "    '0%至5%' : [0, 0.05],\n",
    "    '-5%至0%' : [-0.05, 0],\n",
    "    '-10%至-5%' : [-0.1, -0.05],\n",
    "    '小于-10%' : [-1, -0.1]\n",
    "}\n",
    "df['T-3日至T-5日股价涨跌幅'] = df.apply(lambda x : (x['T-3日均价']-x['T-5日均价'])/x['T-5日均价'], axis=1)\n",
    "print(\"{:10s}\\t {:<10s}\\t {:>10s}\\t {:<10s}\\t {:<10s}\\t {:<10s}\\t {}\".format(\"T-3至T-5日\", \"T-2至T日\", \"T日\",\"转债盈亏\",\"正股盈亏\",\"总盈亏\",\"数量\"))\n",
    "for d, v in limit_value.items():\n",
    "    tf = df[ (df['T-3日至T-5日股价涨跌幅'] < v[1]) & (df['T-3日至T-5日股价涨跌幅'] >= v[0]) ]\n",
    "    #tf.apply(lambda x : print(x['证券代码'], x['T-3日均价'], x['T-5日均价'], (x['T-3日均价'] - x['T-5日均价'])/x['T-5日均价']), axis=1)\n",
    "    limit_avg_1 = tf.apply(lambda x : (x['T日均价']-x['T-2日均价'])/x['T-2日均价'], axis=1).mean()\n",
    "    limit_avg_2 = tf['T日涨跌幅'].mean()\n",
    "    count = tf['T日涨跌幅'].count()\n",
    "    profit_cb = tf['可转债上市当天成交均价'].apply(lambda x : x-100).mean() * 10\n",
    "    profit_st = tf.apply(lambda x : 1000 / x['每股配售（元）'] * (x['T日均价'] - x['T-2日均价']), axis=1).mean()\n",
    "    profit_avg = profit_cb + profit_st\n",
    "    print(\"{:10s}\\t {:<10.2%}\\t {:>10.2f}%\\t {:<10.2f}\\t {:<10.2f}\\t {:<10.2f}\\t {}\".format(d, limit_avg_1, limit_avg_2, profit_cb, profit_st, profit_avg, count))"
   ]
  },
  {
   "cell_type": "code",
   "execution_count": 11,
   "id": "833436db",
   "metadata": {},
   "outputs": [
    {
     "name": "stdout",
     "output_type": "stream",
     "text": [
      "预计转债上市当天涨幅20%\n",
      "安全边际      \t T-2至T日    \t         T日\t 转债盈亏      \t 正股盈亏      \t 总盈亏       \t 数量\n",
      "1%以下      \t -0.12%    \t      -0.41%\t 291.68    \t -24.21    \t 267.47    \t 110\n",
      "1-2%      \t -1.24%    \t      -1.72%\t 219.07    \t -159.67   \t 59.40     \t 191\n",
      "2-3%      \t -1.36%    \t      -1.60%\t 163.98    \t -116.18   \t 47.80     \t 139\n",
      "3-4%      \t -0.89%    \t      -1.62%\t 144.96    \t -56.07    \t 88.89     \t 64\n",
      "4-5%      \t -3.81%    \t      -3.54%\t 130.68    \t -177.47   \t -46.79    \t 23\n",
      "大于5%      \t -2.95%    \t      -3.72%\t 104.50    \t -97.27    \t 7.23      \t 31\n",
      "预计转债上市当天涨幅30%\n",
      "安全边际      \t T-2至T日    \t         T日\t 转债盈亏      \t 正股盈亏      \t 总盈亏       \t 数量\n",
      "1%以下      \t 0.13%     \t      -0.51%\t 287.99    \t 40.96     \t 328.95    \t 55\n",
      "1-2%      \t -0.44%    \t      -0.95%\t 282.83    \t -94.27    \t 188.56    \t 115\n",
      "2-3%      \t -1.57%    \t      -1.79%\t 195.14    \t -187.58   \t 7.56      \t 131\n",
      "3-4%      \t -1.37%    \t      -1.50%\t 167.96    \t -123.15   \t 44.81     \t 108\n",
      "4-5%      \t -2.08%    \t      -2.66%\t 157.90    \t -134.34   \t 23.57     \t 64\n",
      "大于5%      \t -1.69%    \t      -2.23%\t 118.47    \t -58.07    \t 60.40     \t 85\n"
     ]
    }
   ],
   "source": [
    "# 安全边际对抢权策略的影响\n",
    "limit_value = {\n",
    "    '1%以下' : [-10000, 0.01],\n",
    "    '1-2%' : [0.01, 0.02],\n",
    "    '2-3%' : [0.02, 0.03],\n",
    "    '3-4%' : [0.03, 0.04],\n",
    "    '4-5%' : [0.04, 0.05],\n",
    "    '大于5%' : [0.05, 10000]\n",
    "}\n",
    "\n",
    "c = {\n",
    "    '预计转债上市当天涨幅20%' : 0.2,\n",
    "    '预计转债上市当天涨幅30%' : 0.3, \n",
    "}\n",
    "\n",
    "for d, v in c.items():\n",
    "    print(d)\n",
    "    print(\"{:10s}\\t {:<10s}\\t {:>10s}\\t {:<10s}\\t {:<10s}\\t {:<10s}\\t {}\".format(\"安全边际\", \"T-2至T日\", \"T日\",\"转债盈亏\",\"正股盈亏\",\"总盈亏\",\"数量\"))\n",
    "    df['安全边际'] = df.apply(lambda x : (10 * 100 * v / (1000/x['每股配售（元）']))/x['T-2日均价'], axis=1)\n",
    "    for key, value in limit_value.items():\n",
    "        tf = df[ (df['安全边际'] >= value[0]) & (df['安全边际'] <= value[1])]\n",
    "        limit_avg_1 = tf.apply(lambda x : (x['T日均价']-x['T-2日均价'])/x['T-2日均价'], axis=1).mean()\n",
    "        limit_avg_2 = tf['T日涨跌幅'].mean()\n",
    "        count = tf['T日涨跌幅'].count()\n",
    "        profit_cb = tf['可转债上市当天成交均价'].apply(lambda x : x-100).mean() * 10\n",
    "        profit_st = tf.apply(lambda x : 1000 / x['每股配售（元）'] * (x['T日均价'] - x['T-2日均价']), axis=1).mean()\n",
    "        profit_avg = profit_cb + profit_st\n",
    "        print(\"{:10s}\\t {:<10.2%}\\t {:>10.2f}%\\t {:<10.2f}\\t {:<10.2f}\\t {:<10.2f}\\t {}\".format(key, limit_avg_1, limit_avg_2, profit_cb, profit_st, profit_avg, count))"
   ]
  },
  {
   "cell_type": "code",
   "execution_count": 12,
   "id": "411ea76a",
   "metadata": {},
   "outputs": [
    {
     "name": "stdout",
     "output_type": "stream",
     "text": [
      "                    转债盈亏      正股盈亏       总盈亏    股东配售比例      正股市值  \\\n",
      "转债盈亏            1.000000 -0.010355  0.227495  0.275394  0.070642   \n",
      "正股盈亏           -0.010355  1.000000  0.971371  0.030546  0.069028   \n",
      "总盈亏             0.227495  0.971371  1.000000  0.095174  0.084004   \n",
      "股东配售比例          0.275394  0.030546  0.095174  1.000000  0.088963   \n",
      "正股市值            0.070642  0.069028  0.084004  0.088963  1.000000   \n",
      "T-3日至T-5日股价涨跌幅 -0.052707 -0.105238 -0.115006  0.063986  0.000502   \n",
      "安全边际           -0.292556 -0.007969 -0.077265 -0.156074 -0.173309   \n",
      "正股T-2日至T日涨跌幅    0.073041  0.780167  0.777104 -0.026956  0.066081   \n",
      "可转债上市当天涨跌幅      1.000000 -0.010355  0.227495  0.275394  0.070642   \n",
      "\n",
      "                T-3日至T-5日股价涨跌幅      安全边际  正股T-2日至T日涨跌幅  可转债上市当天涨跌幅  \n",
      "转债盈亏                 -0.052707 -0.292556      0.073041    1.000000  \n",
      "正股盈亏                 -0.105238 -0.007969      0.780167   -0.010355  \n",
      "总盈亏                  -0.115006 -0.077265      0.777104    0.227495  \n",
      "股东配售比例                0.063986 -0.156074     -0.026956    0.275394  \n",
      "正股市值                  0.000502 -0.173309      0.066081    0.070642  \n",
      "T-3日至T-5日股价涨跌幅        1.000000  0.054660     -0.112194   -0.052707  \n",
      "安全边际                  0.054660  1.000000     -0.145812   -0.292556  \n",
      "正股T-2日至T日涨跌幅         -0.112194 -0.145812      1.000000    0.073041  \n",
      "可转债上市当天涨跌幅           -0.052707 -0.292556      0.073041    1.000000  \n"
     ]
    }
   ],
   "source": [
    "df['转债盈亏'] = df.apply(lambda x : (x['可转债上市当天成交均价']-100) * 10, axis=1)\n",
    "df['正股盈亏'] = df.apply(lambda x : 1000 / x['每股配售（元）'] * (x['T日均价'] - x['T-2日均价']), axis=1)\n",
    "df['总盈亏'] = df.apply(lambda x : x['转债盈亏'] + x['正股盈亏'], axis=1)\n",
    "\n",
    "tf = pandas.DataFrame()\n",
    "tf['证券代码'] = df['证券代码']\n",
    "tf['证券名称'] = df['证券名称']\n",
    "tf['转债盈亏'] = df['转债盈亏']\n",
    "tf['正股盈亏'] = df['正股盈亏']\n",
    "tf['总盈亏'] = df['总盈亏']\n",
    "\n",
    "tf['股东配售比例'] = df['股东配售比例']\n",
    "tf['正股市值'] = df['正股市值']\n",
    "tf['T-3日至T-5日股价涨跌幅'] = df['T-3日至T-5日股价涨跌幅']\n",
    "tf['安全边际'] = df['安全边际']\n",
    "tf['正股T-2日至T日涨跌幅'] = df['正股T-2日至T日涨跌幅']\n",
    "tf['可转债上市当天涨跌幅'] = df.apply(lambda x : (x['可转债上市当天成交均价']-100)/100, axis=1)\n",
    "print(tf.corr())\n",
    "\n",
    "\n",
    "tf.to_excel(current_path + '/../data/statistics.xlsx', index=False)\n",
    "\n"
   ]
  },
  {
   "cell_type": "code",
   "execution_count": null,
   "id": "edf3cdef",
   "metadata": {},
   "outputs": [],
   "source": []
  }
 ],
 "metadata": {
  "kernelspec": {
   "display_name": "Python 3 (ipykernel)",
   "language": "python",
   "name": "python3"
  },
  "language_info": {
   "codemirror_mode": {
    "name": "ipython",
    "version": 3
   },
   "file_extension": ".py",
   "mimetype": "text/x-python",
   "name": "python",
   "nbconvert_exporter": "python",
   "pygments_lexer": "ipython3",
   "version": "3.9.13"
  }
 },
 "nbformat": 4,
 "nbformat_minor": 5
}
