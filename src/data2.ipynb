{
 "cells": [
  {
   "cell_type": "code",
   "execution_count": 2,
   "id": "61cf34d6",
   "metadata": {},
   "outputs": [],
   "source": [
    "import pandas\n",
    "import os\n",
    "from datetime import datetime\n",
    "\n",
    "current_path = os.path.abspath('')\n",
    "df1 = pandas.read_excel(current_path + '/../data/集思录.xlsx')\n",
    "df2 = pandas.read_excel(current_path + '/../data/上市发行.xlsx')\n",
    "df3 = pandas.read_excel(current_path + '/../data/发行结果.xlsx')\n",
    "df4 = pandas.read_excel(current_path + '/../data/上市表现.xlsx')\n",
    "df5 = pandas.read_excel(current_path + '/../data/正股价格.xlsx', converters={'股票代码':str})\n",
    "\n",
    "df1['可转债代码'] = df1['证券代码'].fillna('000000.SH').map(lambda x:[c.strip() for c in x[1:-1].replace('\\'','').split(',')][1])\n",
    "df2['可转债代码'] = df2['转债代码'].fillna('000000.SH').map(lambda x:[c.strip() for c in x.split('.')][0])\n",
    "df3['可转债代码'] = df3['代码'].fillna('000000.SH').map(lambda x:[c.strip() for c in x.split('.')][0])\n",
    "df4['可转债代码'] = df4['代码'].fillna('000000.SH').map(lambda x:[c.strip() for c in x.split('.')][0])\n",
    "\n",
    "df = pandas.merge(df1,df2, on='可转债代码', how='left')\n",
    "df = pandas.merge(df,df3, on='可转债代码', how='left')\n",
    "df = pandas.merge(df,df4, on='可转债代码', how='left')\n",
    "\n",
    "for idx, row in df.iterrows():\n",
    "    # 第一个是正股代码， 第二个是可转债代码\n",
    "    symbol = [c.strip() for c in row['证券代码'][1:-1].replace('\\'','').split(',')]\n",
    "    name = [c.strip() for c in row['证券名称'][1:-1].replace('\\'','').split(',')]\n",
    "    # 可转债上市日期\n",
    "    listing_date = row['上市公告日期']\n",
    "    # 可转债配售股权登记日 (T-1日)\n",
    "    registration = row['股权登记日']\n",
    "    #print(symbol, name, listing_date, registration)\n",
    "    # 网上发行日 (T日)\n",
    "    day_t = row['网上发行日期_x'].strftime(\"%Y-%m-%d\")\n",
    "    # 发行公告日 (T-2日)，不一定准确，可能提前T-2日道之查询股价产生空数据\n",
    "    day_t_2 = row['发行公告日'].strftime(\"%Y-%m-%d\")\n",
    "\n",
    "    #print(symbol, name, day_t_2, registration, day_t, listing_date)\n",
    "    price = df5[(df5['股票代码']==symbol[0]) & (df5['日期']==day_t)]\n",
    "    #print(price)\n",
    "    #发行公告日可能提前，查出来股价为空，这里把T日前两天自动作为T-2,T-1日\n",
    "    price_list = price.index.tolist()\n",
    "    idx_t = price_list[0]\n",
    "    df.loc[df['可转债代码']==symbol[1], 'T日开盘'] = df5.at[idx_t,'开盘']\n",
    "    df.loc[df['可转债代码']==symbol[1], 'T日收盘'] = df5.at[idx_t,'收盘']\n",
    "    df.loc[df['可转债代码']==symbol[1], 'T-1日开盘'] = df5.at[idx_t-1,'开盘']\n",
    "    df.loc[df['可转债代码']==symbol[1], 'T-1日收盘'] = df5.at[idx_t-1,'收盘']\n",
    "    df.loc[df['可转债代码']==symbol[1], 'T-2日开盘'] = df5.at[idx_t-2,'开盘']\n",
    "    df.loc[df['可转债代码']==symbol[1], 'T-2日收盘'] = df5.at[idx_t-2,'收盘']\n",
    "    \n",
    "    \n",
    "df.to_excel(current_path + '/../data/data2.xlsx', index=False)\n"
   ]
  },
  {
   "cell_type": "code",
   "execution_count": null,
   "id": "92de6f63",
   "metadata": {},
   "outputs": [],
   "source": []
  }
 ],
 "metadata": {
  "kernelspec": {
   "display_name": "Python 3 (ipykernel)",
   "language": "python",
   "name": "python3"
  },
  "language_info": {
   "codemirror_mode": {
    "name": "ipython",
    "version": 3
   },
   "file_extension": ".py",
   "mimetype": "text/x-python",
   "name": "python",
   "nbconvert_exporter": "python",
   "pygments_lexer": "ipython3",
   "version": "3.9.16"
  }
 },
 "nbformat": 4,
 "nbformat_minor": 5
}
