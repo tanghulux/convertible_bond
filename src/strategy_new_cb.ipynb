{
 "cells": [
  {
   "cell_type": "code",
   "execution_count": 49,
   "id": "5261ac09",
   "metadata": {},
   "outputs": [],
   "source": [
    "import akshare\n",
    "import pandas\n",
    "import os\n",
    "\n",
    "current_path = os.path.abspath('')\n",
    "df = pandas.read_excel(current_path + '/../data/data.xlsx')\n",
    "df['上市公告日期'] = pandas.to_datetime(df['上市公告日期'],format=\"%Y-%m-%d\")\n",
    "df['网上发行日期_x'] = pandas.to_datetime(df['网上发行日期_x'],format=\"%Y-%m-%d\")\n",
    "df['T-2日'] = pandas.to_datetime(df['T-2日'],format=\"%Y-%m-%d\")\n",
    "\n",
    "# 2019年至2022年11月18日 共558只可转债\n",
    "start = pandas.Timestamp(\"2019-01-01\")\n",
    "end = pandas.Timestamp(\"2022-11-18\")\n",
    "\n",
    "df = df[(df['上市公告日期']>=start) & (df['上市公告日期']<=end)]\n",
    "df = df.sort_values(by=\"T-2日\" , ascending=True)\n",
    "\n",
    "daily = pandas.read_excel(current_path + '/../data/交易日历.xlsx')\n",
    "daily['trade_date'] = pandas.to_datetime(daily['trade_date'],format=\"%Y-%m-%d\")\n",
    "daily = daily[(daily['trade_date']>=start-pandas.to_timedelta('30 days')) & (daily['trade_date']<=end)]\n",
    "daily.insert(1, 'balance', 0)\n",
    "daily.insert(2, 'ret', 0)\n",
    "\n",
    "def strategy(cb):\n",
    "    return True\n",
    "\n",
    "for idx, row in df.iterrows():\n",
    "    if strategy(row):\n",
    "        b1 = daily.loc[daily['trade_date']==row['T-2日'], 'balance'] + row['T-2日均价'] * 1000/row['每股配售（元）']\n",
    "        daily.loc[daily['trade_date']==row['T-2日'], 'balance'] += row['T-2日收盘'] * 1000/row['每股配售（元）']\n",
    "        b2 = daily.loc[daily['trade_date']==row['T-2日'], 'balance']\n",
    "        daily.loc[daily['trade_date']==row['T-2日'], 'ret'] = (b1-b2)/b1\n",
    "        daily.loc[daily['trade_date']==row['网上发行日期_x'], 'balance'] += 1000\n",
    "#daily.apply(lambda x : print(x['trade_date'], x['balance'], x['ret']), axis=1)\n",
    "    \n",
    "\n",
    "for k, v in daily.iterrows():\n",
    "    row = df[(df['T-2日'] == v['trade_date'])]\n",
    "    if not row.empty:\n",
    "        b1 = daily.at[k-1, 'balance'] + row.iloc[0].at['T-2日均价'] * 1000/row['每股配售（元）']\n",
    "        b2 = \n",
    "        daily.at[k, 'balance'] = row.iloc[0].at['T-2日收盘'] * 1000/row['每股配售（元）']\n"
   ]
  },
  {
   "cell_type": "code",
   "execution_count": null,
   "id": "f792fb1a",
   "metadata": {},
   "outputs": [],
   "source": []
  },
  {
   "cell_type": "code",
   "execution_count": null,
   "id": "81862b42",
   "metadata": {},
   "outputs": [],
   "source": []
  }
 ],
 "metadata": {
  "kernelspec": {
   "display_name": "Python 3 (ipykernel)",
   "language": "python",
   "name": "python3"
  },
  "language_info": {
   "codemirror_mode": {
    "name": "ipython",
    "version": 3
   },
   "file_extension": ".py",
   "mimetype": "text/x-python",
   "name": "python",
   "nbconvert_exporter": "python",
   "pygments_lexer": "ipython3",
   "version": "3.9.16"
  }
 },
 "nbformat": 4,
 "nbformat_minor": 5
}
