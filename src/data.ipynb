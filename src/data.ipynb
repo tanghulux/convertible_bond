{
 "cells": [
  {
   "cell_type": "code",
   "execution_count": 18,
   "id": "02f365af",
   "metadata": {
    "scrolled": true
   },
   "outputs": [
    {
     "name": "stdout",
     "output_type": "stream",
     "text": [
      "003043\n",
      "[1505]\n",
      "80,000,000\n",
      "603176\n",
      "[]\n"
     ]
    },
    {
     "ename": "IndexError",
     "evalue": "list index out of range",
     "output_type": "error",
     "traceback": [
      "\u001b[0;31m---------------------------------------------------------------------------\u001b[0m",
      "\u001b[0;31mIndexError\u001b[0m                                Traceback (most recent call last)",
      "Cell \u001b[0;32mIn[18], line 68\u001b[0m\n\u001b[1;32m     66\u001b[0m info \u001b[38;5;241m=\u001b[39m df6[df6[\u001b[38;5;124m'\u001b[39m\u001b[38;5;124mA股代码\u001b[39m\u001b[38;5;124m'\u001b[39m]\u001b[38;5;241m==\u001b[39msymbol[\u001b[38;5;241m0\u001b[39m]]\u001b[38;5;241m.\u001b[39mindex\u001b[38;5;241m.\u001b[39mtolist()\n\u001b[1;32m     67\u001b[0m \u001b[38;5;28mprint\u001b[39m(info)\n\u001b[0;32m---> 68\u001b[0m idx_info \u001b[38;5;241m=\u001b[39m \u001b[43minfo\u001b[49m\u001b[43m[\u001b[49m\u001b[38;5;241;43m0\u001b[39;49m\u001b[43m]\u001b[49m\n\u001b[1;32m     69\u001b[0m \u001b[38;5;28mprint\u001b[39m(df6\u001b[38;5;241m.\u001b[39mat[idx_info, \u001b[38;5;124m'\u001b[39m\u001b[38;5;124mA股总股本\u001b[39m\u001b[38;5;124m'\u001b[39m])\n",
      "\u001b[0;31mIndexError\u001b[0m: list index out of range"
     ]
    }
   ],
   "source": [
    "import pandas\n",
    "import os\n",
    "from datetime import datetime\n",
    "\n",
    "current_path = os.path.abspath('')\n",
    "df1 = pandas.read_excel(current_path + '/../data/集思录.xlsx')\n",
    "df2 = pandas.read_excel(current_path + '/../data/上市发行.xlsx')\n",
    "df3 = pandas.read_excel(current_path + '/../data/发行结果.xlsx')\n",
    "df4 = pandas.read_excel(current_path + '/../data/上市表现.xlsx')\n",
    "df5 = pandas.read_excel(current_path + '/../data/正股价格.xlsx', converters={'股票代码':str})\n",
    "df6 = pandas.read_excel(current_path + '/../data/正股信息.xlsx', converters={'A股代码':str})\n",
    "\n",
    "df1['可转债代码'] = df1['证券代码'].fillna('000000.SH').map(lambda x:[c.strip() for c in x[1:-1].replace('\\'','').split(',')][1])\n",
    "df2['可转债代码'] = df2['转债代码'].fillna('000000.SH').map(lambda x:[c.strip() for c in x.split('.')][0])\n",
    "df3['可转债代码'] = df3['代码'].fillna('000000.SH').map(lambda x:[c.strip() for c in x.split('.')][0])\n",
    "df4['可转债代码'] = df4['代码'].fillna('000000.SH').map(lambda x:[c.strip() for c in x.split('.')][0])\n",
    "\n",
    "df = pandas.merge(df1,df2, on='可转债代码', how='left')\n",
    "df = pandas.merge(df,df3, on='可转债代码', how='left')\n",
    "df = pandas.merge(df,df4, on='可转债代码', how='left')\n",
    "\n",
    "for idx, row in df.iterrows():\n",
    "    # 第一个是正股代码， 第二个是可转债代码\n",
    "    symbol = [c.strip() for c in row['证券代码'][1:-1].replace('\\'','').split(',')]\n",
    "    name = [c.strip() for c in row['证券名称'][1:-1].replace('\\'','').split(',')]\n",
    "    # 可转债上市日期\n",
    "    listing_date = row['上市公告日期']\n",
    "    # 可转债配售股权登记日 (T-1日)\n",
    "    registration = row['股权登记日']\n",
    "    #print(symbol, name, listing_date, registration)\n",
    "    # 网上发行日 (T日)\n",
    "    day_t = row['网上发行日期_x'].strftime(\"%Y-%m-%d\")\n",
    "    # 发行公告日 (T-2日)，不一定准确，可能提前T-2日道之查询股价产生空数据\n",
    "    day_t_2 = row['发行公告日'].strftime(\"%Y-%m-%d\")\n",
    "\n",
    "    #print(symbol, name, day_t_2, registration, day_t, listing_date)\n",
    "    idx_t = df5[(df5['股票代码']==symbol[0]) & (df5['日期']==day_t)].index[0]\n",
    "    #print(price)\n",
    "\n",
    "    df.loc[df['可转债代码']==symbol[1], 'T日开盘'] = df5.at[idx_t,'开盘']\n",
    "    df.loc[df['可转债代码']==symbol[1], 'T日收盘'] = df5.at[idx_t,'收盘']\n",
    "    df.loc[df['可转债代码']==symbol[1], 'T日均价'] = df5.at[idx_t,'均价']\n",
    "    df.loc[df['可转债代码']==symbol[1], 'T日涨跌幅'] = df5.at[idx_t,'涨跌幅']\n",
    "    \n",
    "    df.loc[df['可转债代码']==symbol[1], 'T-1日开盘'] = df5.at[idx_t-1,'开盘']\n",
    "    df.loc[df['可转债代码']==symbol[1], 'T-1日收盘'] = df5.at[idx_t-1,'收盘']\n",
    "    df.loc[df['可转债代码']==symbol[1], 'T-1日均价'] = df5.at[idx_t-1,'均价']\n",
    "    df.loc[df['可转债代码']==symbol[1], 'T-1日涨跌幅'] = df5.at[idx_t-1,'涨跌幅']\n",
    "    \n",
    "    df.loc[df['可转债代码']==symbol[1], 'T-2日开盘'] = df5.at[idx_t-2,'开盘']\n",
    "    df.loc[df['可转债代码']==symbol[1], 'T-2日收盘'] = df5.at[idx_t-2,'收盘']\n",
    "    df.loc[df['可转债代码']==symbol[1], 'T-2日均价'] = df5.at[idx_t-2,'均价']\n",
    "    df.loc[df['可转债代码']==symbol[1], 'T-2日涨跌幅'] = df5.at[idx_t-2,'涨跌幅']\n",
    "    \n",
    "    df.loc[df['可转债代码']==symbol[1], 'T-3日开盘'] = df5.at[idx_t-3,'开盘']\n",
    "    df.loc[df['可转债代码']==symbol[1], 'T-3日收盘'] = df5.at[idx_t-3,'收盘']\n",
    "    df.loc[df['可转债代码']==symbol[1], 'T-3日均价'] = df5.at[idx_t-3,'均价']\n",
    "    df.loc[df['可转债代码']==symbol[1], 'T-3日涨跌幅'] = df5.at[idx_t-3,'涨跌幅']\n",
    "    \n",
    "    idx_listing_date = df5[(df5['股票代码']==symbol[0]) & (df5['日期']==listing_date)].index[0]\n",
    "    \n",
    "    df.loc[df['可转债代码']==symbol[1], 'T-2日'] = df5.at[idx_t-2,'日期']\n",
    "    df.loc[df['可转债代码']==symbol[1], '可转债上市日正股收盘价'] = df5.at[idx_listing_date,'收盘']\n",
    "    \n",
    "    info = df6[df6['A股代码']==symbol[0]].index.tolist()\n",
    "    if not info:\n",
    "        continue\n",
    "    df.loc[df['可转债代码']==symbol[1], 'A股总股本'] = df6[df6['A股代码']==symbol[0]][0, 'A股总股本']\n",
    "    df.loc[df['可转债代码']==symbol[1], 'A股流通股本'] = df6[df6['A股代码']==symbol[0]][0, 'A股流通股本']\n",
    "\n",
    "    \n",
    "#df.to_excel(current_path + '/../data/data.xlsx', index=False)\n"
   ]
  },
  {
   "cell_type": "code",
   "execution_count": null,
   "id": "61b51a5a",
   "metadata": {},
   "outputs": [],
   "source": []
  }
 ],
 "metadata": {
  "kernelspec": {
   "display_name": "Python 3 (ipykernel)",
   "language": "python",
   "name": "python3"
  },
  "language_info": {
   "codemirror_mode": {
    "name": "ipython",
    "version": 3
   },
   "file_extension": ".py",
   "mimetype": "text/x-python",
   "name": "python",
   "nbconvert_exporter": "python",
   "pygments_lexer": "ipython3",
   "version": "3.9.16"
  }
 },
 "nbformat": 4,
 "nbformat_minor": 5
}
