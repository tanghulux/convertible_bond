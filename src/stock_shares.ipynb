{
 "cells": [
  {
   "cell_type": "code",
   "execution_count": null,
   "id": "9c1ef58c",
   "metadata": {},
   "outputs": [],
   "source": [
    "import os\n",
    "import pandas\n",
    "import datetime\n",
    "import akshare\n",
    "import time\n",
    "\n",
    "current_path = os.path.abspath('')\n",
    "df = pandas.read_excel(current_path + '/../data/集思录.xlsx')\n",
    "\n",
    "stock_info = pandas.DataFrame()\n",
    "stock = pandas.DataFrame()\n",
    "\n",
    "i = 0\n",
    "for idx, row in df.iterrows():\n",
    "    # 第一个是正股代码， 第二个是可转债代码\n",
    "    symbol = [c.strip() for c in row['证券代码'][1:-1].replace('\\'','').split(',')]\n",
    "    name = [c.strip() for c in row['证券名称'][1:-1].replace('\\'','').split(',')]\n",
    "    # 可转债上市日期\n",
    "    listing_date = row['上市公告日期']\n",
    "    # 可转债配售股权登记日, 也就是T-1日（T日是申购日）\n",
    "    registration = row['股权登记日']\n",
    "    #print(symbol, name, listing_date, registration)\n",
    "    registr = datetime.datetime.strptime(registration, \"%Y-%m-%d\")\n",
    "    listing_d = datetime.datetime.strptime(listing_date, \"%Y-%m-%d\")\n",
    "\n",
    "    stock = akshare.stock_share_change_cninfo(symbol=symbol[0])\n",
    "    stock.insert(0, '股票代码', symbol[0], allow_duplicates=True)\n",
    "    \n",
    "    stock_info = pandas.concat([stock_info, stock], ignore_index=True)\n",
    "    i += 1\n",
    "    if (i % 50 == 0):\n",
    "        print(\"-------------------------------------------------------------------------\" + str(i))\n",
    "        print(stock.head())\n",
    "        time.sleep(1)\n",
    "print(\"-------------------------------------------------------------------------\" + str(i))\n",
    "print(stock.head())\n",
    "\n",
    "stock_info.to_excel(current_path + '/../data/股本变动.xlsx', index=False)\n",
    "print(\"game over\")\n"
   ]
  }
 ],
 "metadata": {
  "kernelspec": {
   "display_name": "Python 3 (ipykernel)",
   "language": "python",
   "name": "python3"
  },
  "language_info": {
   "codemirror_mode": {
    "name": "ipython",
    "version": 3
   },
   "file_extension": ".py",
   "mimetype": "text/x-python",
   "name": "python",
   "nbconvert_exporter": "python",
   "pygments_lexer": "ipython3",
   "version": "3.9.13"
  }
 },
 "nbformat": 4,
 "nbformat_minor": 5
}
